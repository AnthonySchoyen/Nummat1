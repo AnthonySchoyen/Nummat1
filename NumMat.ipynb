{
 "cells": [
  {
   "cell_type": "markdown",
   "id": "6310401e",
   "metadata": {},
   "source": [
    "# Project 1 10108"
   ]
  },
  {
   "cell_type": "markdown",
   "id": "0be7be1a",
   "metadata": {},
   "source": [
    "A lot of the mathematics that manifests in our world is described in linear systems. Here we will study a class of such systems called \"underdetermined\". That is, a matrix system $Ax = y$ where $A$ is wide. In general, underdetermined have infinite solutions as there are more variables than constraints. We will look at two possible ways to extract an \"ideal\" $x$ from the system. Minimal norm solutions and Tikhonov regularisation.\n",
    "\n",
    "We want to study such method to apply to some engineering problem. Relevant for use we will utilize our knowledge to \"single channel source separation\". Say multiple signals are read at the same points. A lot of information can be learned if one could separate the original messages. Also, if we were able to do so, we could save a lot of transmission data by stacking information. We will use our two above mentioned methods to isolate $1's$ and $0's$ from a single image stacked with both numbers.\n"
   ]
  },
  {
   "cell_type": "code",
   "execution_count": 1,
   "id": "83a0079d",
   "metadata": {},
   "outputs": [],
   "source": [
    "import numpy as np\n",
    "import scipy as sp\n",
    "from scipy.linalg import solve_triangular\n",
    "import matplotlib.pyplot as plt"
   ]
  },
  {
   "cell_type": "markdown",
   "id": "9da19f63",
   "metadata": {},
   "source": [
    "**The minimal norm approach**\n",
    "\n",
    "Given a matrix $A$ and an $y$ given, we want to find the \"smallest\" $x$ which satisfies $A$, that is\n",
    "\n",
    "\\begin{align}\n",
    "    argmin_{x} \\| x\\|^2 \\quad \\text{such that  } Ax = y\n",
    "\\end{align}\n",
    "\n",
    "In other words, find the $x$ with smallest norm that still satisfies the equation $Ax = y$.\n",
    "\n",
    "Now this system is quite nice for multiple reasons. First I claim the hessian of the object function $\\| x\\|^2$ to be the $2I$. \n",
    "\n",
    "\\begin{align}\n",
    "    f(x) &= \\|x\\|^2 = x^T x \\\\\n",
    "    \\nabla f(x) &= 2 x \\\\\n",
    "    \\nabla ^2 f(x) &= 2I \n",
    "\\end{align}\n",
    "\n",
    "Note that the hessian is constant. Now, $2I$ is SPD (for all $x$) meaning that our object function is strictly convex. Also our constraints $Ax = y$ is linear and therefore convex. This is so-called \"Convex optimization\". In turns, this implies that if the system has an unique(!) solution if an solution exists. Keeping this in mind we will define an $x$ and construct $y = Ax$, making sure an soluion $x$ exists for our system."
   ]
  },
  {
   "cell_type": "markdown",
   "id": "c3dcc048",
   "metadata": {},
   "source": [
    "**1a)**"
   ]
  },
  {
   "cell_type": "markdown",
   "id": "68ed5a5d",
   "metadata": {},
   "source": [
    "To understand some conditions for our system we will review some basic properties of matrices. \n",
    "\n",
    "A linear system has no solutions if the linear constraints are overdetermined or if the constraints contradict eachother. Choosing the follow $A,y$ will give no solution.\n",
    "\n",
    "\\begin{equation}\n",
    "A =\n",
    "\\begin{bmatrix}\n",
    "    0 & 0 & 2 \\\\\n",
    "    0 & 0 & 1 \\\\\n",
    "\\end{bmatrix}, \\quad\n",
    "y=\\begin{bmatrix}\n",
    "    1 \\\\\n",
    "    1 \\\\\n",
    "\\end{bmatrix}\n",
    "\\end{equation}\n",
    "\n",
    "Here our two constraints contradict, e.g $2x_3 = 1$ and $x_3 = 1$. However, it's quite \"rare\" to overdetmine a system with a wide matrix, but nevertheless possible, as showcased above. Dually one can underdetermine a system, making some variables free. Such systems will have infinitly many solutions. An example of such a system is given by:\n",
    "\n",
    "\n",
    "\n",
    "\\begin{equation}\n",
    "A =\n",
    "\\begin{bmatrix}\n",
    "    1 & 1 & 1 \\\\\n",
    "    0 & 1 & 1 \\\\\n",
    "\\end{bmatrix}, \\quad\n",
    "y=\\begin{bmatrix}\n",
    "    2 \\\\\n",
    "    1 \\\\\n",
    "\\end{bmatrix}\n",
    "\\end{equation}\n",
    "\n",
    "As long as $x_1 = 1, \\quad x_3 = 1 - x_2$. Here $x_2$ can have a random value."
   ]
  },
  {
   "cell_type": "markdown",
   "id": "0315d1e5",
   "metadata": {},
   "source": [
    "**1b)**"
   ]
  },
  {
   "cell_type": "markdown",
   "id": "7f16e98b",
   "metadata": {},
   "source": [
    "let $A \\in M_{m \\times n} (\\mathbb{R})$ where $m < n$.\n",
    "\n",
    "A matrix $M$ is symmetric if $M^T = M$. \n",
    "\n",
    "Without proof, I claim $(AB)^T = B^T A^T$ and $(A^T)^T=A$ for any matrix\n",
    "\n",
    "Finally $(A^TA)^T = A^T (A^T)^T = A^T A$ and $(AA^T)^T = (A^T)^TA^T = AA^T$ showing the symmetric property. \n",
    "\n",
    "\n",
    "Indeed they are positive semi-definite\n",
    "\\begin{align}\n",
    "    x^TA^TAx &= (Ax)^T Ax = \\langle Ax,Ax \\rangle = \\| Ax \\|^2 \\geq 0 \\\\\n",
    "    x^TAA^Tx &=x^T(A^T)^TA^Tx = (A^T x)^T A^T x = \\langle A^T x, A^T x \\rangle = \\|A^T x\\|^2 \\geq 0\n",
    "\\end{align}\n",
    "\n",
    "where $x$ is suitable vector. \n",
    "\n",
    "Furthermore, I claim that $AA^T$ is invertible whilst $A^TA$ is not. \n",
    "\n",
    "By assumptions, the dimension of the row space is equal to $m$. Observe the matrix $A^T A$ to be an $n\\times n$ matrix. By associativity of matrices we achive $(A^T A)x = A^T (Ax)$, which is an linear operator $A^T$ from the image of $A$ meaning $dim(im(A^TA)) \\leq dim(im(A)) = m < n$, thus not invertible. \n",
    "\n",
    "Furthermore, by assumption the dimension of row and column space of $A$ is $m$ implying the row space of $A^T$ is $m$. Without justification I claim the range of $A^T$ and null space of $A$ to be orthogonal components. We want to show that the null space of $A A^T$ is trivial. Assume $A(A^T x) = A(y) = 0$. Since $y$ is in the nullspace of $A$ and in the range of $A^T$, it must be zero. $A^T x = 0$ (by orthogonal components). Now $A^T$ is an embedding $\\mathbb{R}^m \\hookrightarrow \\mathbb{R}^n$ with a row space dimension equal to $m$ (since the rowspace is full), making $A^T$ invertible in its image concluding $x = 0$. \n",
    "\n",
    "$\\square$"
   ]
  },
  {
   "cell_type": "markdown",
   "id": "71be3568",
   "metadata": {},
   "source": [
    "**1c)**"
   ]
  },
  {
   "cell_type": "markdown",
   "id": "886c290d",
   "metadata": {},
   "source": [
    "Since our first order necessary condtion for a system with constraint is given by KKT points. That is any possible minimizer must satisfy the KKT conditions. Since this is outside our curriculum (atleast so far) I won't go in great detail about them. However, a requirement is that $\\nabla_x \\mathcal{L}(x,\\lambda) = 0$.\n",
    "\n",
    "Define $A = (A_1, A_2, ..., A_m)^T$. $A_i$ will be the i-th row in $A$. Observe that $(Ax - y)_i = A_i x - y_i$. \n",
    "\n",
    "The lagrange function is given by \n",
    "\n",
    "$$\n",
    "\\mathcal{L}(x, \\lambda) = x^T x + \\lambda^T (A x - y)\n",
    "$$\n",
    "\n",
    "\\begin{align}\n",
    "     \\left (\\nabla_x \\mathcal{L} (x, \\lambda) \\right )_j &= \\partial_{x_j} \\left (\\sum_i x_i^2 + \\sum_i \\lambda_i (A_i x - y_i) \\right )\\\\\n",
    "    &= 2 x_j + \\partial_{x_j} \\sum_i \\lambda_i (A_i x - y_i) \\\\\n",
    "    &=2 x_j + \\partial_{x_j} \\sum_i \\lambda_i \\left( \\sum_k A_{ik} x_k - y_i \\right ) \\\\\n",
    "    &=2 x_j + \\sum_i \\lambda_i \\partial_{x_j} \\left ( \\sum_k  A_{ik} x_k \\right )\\\\\n",
    "    &=2 x_j + \\sum_i \\lambda_i A_{ij}\\\\\n",
    "\\end{align}\n",
    "\n",
    "In other words\n",
    "\n",
    "\\begin{equation}\n",
    "    \\nabla_x \\mathcal{L} (x, \\lambda) = 2 x + A^T \\lambda \n",
    "\\end{equation}\n",
    "\n",
    "\n",
    "Keep in mind that $\\nabla_x \\mathcal{L}(x,\\lambda) = 0$ implies $x = -\\frac{1}{2} A^T \\lambda $\n",
    "\n",
    "Food for thought: The hessian of the Lagrange will necessary be $ \\nabla_{xx} \\mathcal{L} = 2I$ which is positive definite. Therefore, $\\omega^T \\nabla_{xx} \\mathcal{L} \\omega > 0 \\quad \\forall \\omega \\in C, \\omega \\neq 0$ for any critical cone $C$. This is the second-order sufficient conditions, meaning any KKT points will indeed be an strict global minimizer. Therefore, the solution $x$ to $\\nabla_x \\mathcal{L}(x,\\lambda) = 0$ is the minimizer $x_{min}$\n",
    "\n",
    "Back to calculating the gradients. \n",
    "\n",
    "\\begin{align}\n",
    "    (\\nabla_\\lambda \\mathcal{L} (x, \\lambda))_j &= \\partial_{\\lambda_j} \\left (\\sum_i x_i^2 + \\sum_i \\lambda_i (A_i x - y_i)  \\right )\\\\\n",
    "    &= (A_j x - y_j)\n",
    "\\end{align}\n",
    "\n",
    "In other words\n",
    "\n",
    "\\begin{equation}\n",
    "    \\nabla_{\\lambda} \\mathcal{L} (x, \\lambda) = A x - y \n",
    "\\end{equation}\n",
    "\n",
    "\n",
    "Finally, our first order necessary condtion gives $\\nabla_\\lambda \\mathcal{L}(x,\\lambda) = 0$ and $\\nabla_x \\mathcal{L}(x,\\lambda) = 0$. Now\n",
    "\n",
    "\\begin{equation}\n",
    "    0 = A(0) = A(2 x_{min} + A^T \\lambda_{min}) = 2 A x_{min} + A A^T \\lambda_{min} = 2 y + A A^T \\lambda_{min} \\Rightarrow \\lambda_{min} = -2(A A^T)^{-1} y\n",
    "\\end{equation}\n",
    "\n",
    "Lastly we remember that $x = -\\frac{1}{2} A^T \\lambda $ yielding:\n",
    "\n",
    "\\begin{equation}\n",
    "    x_{min} = -\\frac{1}{2} A^T \\lambda_{min} = -\\frac{1}{2} A^T (-2(A A^T)^{-1} y) = A^T (A A^T)^{-1} y\n",
    "\\end{equation}\n",
    "\n",
    "\n",
    "\n",
    "Just toverify that it is a solution. Indeed, \n",
    "\n",
    "\\begin{equation}\n",
    "    A(x_{min}) = A (A^T (A A^T)^{-1} y) = (AA^T) (A A^T)^{-1} y = y\n",
    "\\end{equation}\n",
    "\n",
    "$\\square$"
   ]
  },
  {
   "cell_type": "markdown",
   "id": "554b07a4",
   "metadata": {},
   "source": [
    "Alot of the derivatives on this project have already been calculated in exercise 2. Above I have showed the component wise derivations. Define now the Gateaux derivative. \n",
    "\n",
    "\\begin{equation}\n",
    "    dF(x, e) = \\left.\\frac{d}{d\\varepsilon} \\right |_{\\varepsilon=0} F(x + \\varepsilon e)\n",
    "\\end{equation}\n",
    "\n",
    "Where $e$ is a direction vector. \n",
    "\n",
    "From this point I will freely use the definition of Gateaux derivative to calculate derivatives of matrix systems. "
   ]
  },
  {
   "cell_type": "markdown",
   "id": "ad261c7e",
   "metadata": {},
   "source": [
    "**1d)**\n",
    "\n",
    "From 1c) we know $x_{min} = A^T (A A^T)^{-1} y$. Choosing the QR decomposition $A^T = QR$. $Q$ is here an ortogonal matrix, that is $Q^T = Q^{-1}$ and $R$ is upper triangular. We get\n",
    "\n",
    "\\begin{align}\n",
    "    x_{min} &= A^T (A A^T)^{-1} y \\\\\n",
    "    &= (QR) \\left( (QR)^T (QR) \\right)^{-1} y \\\\\n",
    "    &= Q R \\left ( R^T Q^{-1} Q R\\right )^{-1} y\\\\\n",
    "    &= Q R \\left ( R^T R\\right )^{-1} y\\\\\n",
    "    &= Q R R^{-1} R^{-T} y\\\\\n",
    "    &= Q R^{-T} y\n",
    "\\end{align}\n",
    "\n",
    "$\\square$"
   ]
  },
  {
   "cell_type": "markdown",
   "id": "1302a455",
   "metadata": {},
   "source": [
    "I will be using the usual Gram-Schmidt as I am quite familiar with it. Below is a code finding the $QR$-decomposition for a matrix. Keep in mind that this method requires a matrix to have a full column space, that is all columns are linear independent. When making an orthogonal vector from the Gram-Schmidt process, we are removing the projections from the other vectors. If the set is linear dependent, at least one such vector will vanish. My algorithm works only for \"thin\"/square matrices as any \"thick\" matrices cannot have a full column space.\n",
    "\n",
    "By using Gram-Schmidt we can directly construct the truncated $Q$ and $R$, which is ideal to avoid saving redundant information."
   ]
  },
  {
   "cell_type": "code",
   "execution_count": 2,
   "id": "30a8b700",
   "metadata": {},
   "outputs": [],
   "source": [
    "def QR_factorization(A):\n",
    "    B = np.copy(A)\n",
    "    Q = np.empty(np.shape(A), dtype = float)\n",
    "    R = np.zeros((len(A[0,:]), len(A[0,:])))\n",
    "    \n",
    "    for i in range(len(A[0,:])):\n",
    "        qi = B[:,i]\n",
    "        for j in range(i):\n",
    "            qi -= Q[:,j] * np.inner(Q[:,j],A[:,i])\n",
    "        qi = qi/(np.linalg.norm(qi))\n",
    "        Q[:,i] = qi\n",
    "    \n",
    "    for i in range(len(R)):\n",
    "        for j in range(i + 1):\n",
    "            R[j, i] = np.inner(Q[:,j],A[:,i])\n",
    "    return Q, R"
   ]
  },
  {
   "cell_type": "code",
   "execution_count": 3,
   "id": "8a0d41f1",
   "metadata": {},
   "outputs": [
    {
     "name": "stdout",
     "output_type": "stream",
     "text": [
      "[[ 0.33333333 -0.93333333]\n",
      " [ 0.66666667  0.33333333]\n",
      " [ 0.66666667  0.13333333]]\n",
      "[[3. 2.]\n",
      " [0. 5.]]\n",
      "[[ 1. -4.]\n",
      " [ 2.  3.]\n",
      " [ 2.  2.]]\n"
     ]
    }
   ],
   "source": [
    "A = np.array([[1,-4],[2,3],[2,2]], dtype = float)\n",
    "Q, R = QR_factorization(A)\n",
    "print(Q)\n",
    "print(R)\n",
    "print(Q @ R)"
   ]
  },
  {
   "cell_type": "markdown",
   "id": "71350780",
   "metadata": {},
   "source": [
    "**1e)**"
   ]
  },
  {
   "cell_type": "markdown",
   "id": "3d7c03f3",
   "metadata": {},
   "source": [
    "By the QR-decomposition we can easily calulate the answer by $x_{min} = Q R^{-T} y$ as derived above. However, calculating any inverse is quite demanding, especially for larger matrices. Luckily, we have some tricks up our sleeves. By taking the substitution $z = R^{-T}y$ we can rewrite:\n",
    "\n",
    "\\begin{align}\n",
    "    x_{min} &= Q R^{-T}y = Qz\\\\\n",
    "    \\\\\n",
    "    z &= R^{-T} y \\implies R^T z = y\n",
    "\\end{align}\n",
    "\n",
    "Which gives a system of two equations where no inverse matrix are present. We first need to find our $z$. That can easily be done by forward substitution since $R^T$ is lower triangular. Also, our $Q$ is know so we just multiply from the left to find our minimizer. "
   ]
  },
  {
   "cell_type": "markdown",
   "id": "37d2cf29",
   "metadata": {},
   "source": [
    "I have decided to use *scipy.linalg.solve_triangular* to solve the forward substitution so I'm certain the code runs smootly and quickly."
   ]
  },
  {
   "cell_type": "code",
   "execution_count": 4,
   "id": "1f312338",
   "metadata": {},
   "outputs": [],
   "source": [
    "def find_x_min(Q, R, y):\n",
    "    z = sp.linalg.solve_triangular(R.T, y, lower = True)\n",
    "    return Q @ z\n",
    "\n",
    "def QR_solver(A,y):\n",
    "    Q, R = QR_factorization(A)\n",
    "    return find_x_min(Q,R,y)"
   ]
  },
  {
   "cell_type": "code",
   "execution_count": 5,
   "id": "417f86f7",
   "metadata": {
    "scrolled": true
   },
   "outputs": [
    {
     "name": "stdout",
     "output_type": "stream",
     "text": [
      "[-0.13777778  0.31111111  0.25777778]\n"
     ]
    }
   ],
   "source": [
    "y = np.array([1,2])\n",
    "print(QR_solver(A,y))"
   ]
  },
  {
   "cell_type": "code",
   "execution_count": 6,
   "id": "e2ad0520",
   "metadata": {},
   "outputs": [
    {
     "name": "stdout",
     "output_type": "stream",
     "text": [
      "[1.47425335 2.13285273 2.20700309 5.369207  ]\n",
      "6.357808598493451\n",
      "7.158910531638177\n"
     ]
    }
   ],
   "source": [
    "A = np.array([[1,-4],[2,3],[2,2],[5,7]], dtype = float).T\n",
    "x = np.array([1,0.5, 5, 5]).T\n",
    "\n",
    "xm = QR_solver(A.T, A @ x)\n",
    "\n",
    "print(QR_solver(A.T, A @ x))\n",
    "print(np.linalg.norm(xm))\n",
    "print(np.linalg.norm(x))\n"
   ]
  },
  {
   "cell_type": "markdown",
   "id": "ad361337",
   "metadata": {},
   "source": [
    "**1f)**"
   ]
  },
  {
   "cell_type": "markdown",
   "id": "eea6076f",
   "metadata": {},
   "source": [
    "We are asked to solve the system \n",
    "\n",
    "\\begin{equation}\n",
    "    AA^T z = y, \\quad A^T z = x_{min}\n",
    "\\end{equation}\n",
    "\n",
    "Which conveniently corresponds to\n",
    "\n",
    "\\begin{equation}\n",
    "    x_{min} = A^T(AA^T)^{-1} y\n",
    "\\end{equation}\n",
    "\n",
    "From our eariler tasks we have seen that the minimizer is then given by $x_{min} = QR^{-T}$"
   ]
  },
  {
   "cell_type": "markdown",
   "id": "a27d25e5",
   "metadata": {},
   "source": [
    "The two following code blocks are given in the handouts. The first generates a suitable matrix $A$ for our problem and the second generates an $y$"
   ]
  },
  {
   "cell_type": "code",
   "execution_count": 7,
   "id": "f3531a80",
   "metadata": {},
   "outputs": [],
   "source": [
    "def generate_A(m,n):\n",
    "    cov_eigvecs = np.random.uniform(-1.0,1.0,(n,n))\n",
    "    cov = cov_eigvecs.T @ cov_eigvecs\n",
    "    v = np.sqrt(np.diag(cov))\n",
    "    outer_v = np.outer(v, v)\n",
    "    corr = cov / outer_v\n",
    "    corr[cov == 0] = 0\n",
    "    chol = sp.linalg.cholesky(corr, lower=True)\n",
    "    \n",
    "    A = np.random.normal(0, 1.0,(m,n))\n",
    "    A = np.dot(A,chol.T)\n",
    "    return A\n",
    "\n",
    "m = 1024 ###1024\n",
    "n = 4048 ###4048\n",
    "A = generate_A(m,n)"
   ]
  },
  {
   "cell_type": "markdown",
   "id": "b211ef6c",
   "metadata": {},
   "source": [
    "The alogrithm constructs an $x$ with entries from a normal distrubution around $0$."
   ]
  },
  {
   "cell_type": "code",
   "execution_count": 8,
   "id": "62e3764c",
   "metadata": {},
   "outputs": [
    {
     "name": "stdout",
     "output_type": "stream",
     "text": [
      "(4048, 100)\n",
      "(1024, 100)\n"
     ]
    }
   ],
   "source": [
    "N = 100\n",
    "X = np.random.normal(0.0,1.0,(A.shape[1],N))\n",
    "Y = np.dot(A,X)\n",
    "\n",
    "print(X.shape)\n",
    "print(Y.shape) "
   ]
  },
  {
   "cell_type": "markdown",
   "id": "c8ba8a6e",
   "metadata": {},
   "source": [
    "Now we want to find the minimizers for different methods. First by the usual $np.linalg.solve()$, then by our $QR$ decomposition we just made. My code for the $QR$ decomposition is by no means optimal. Therefore, I have decided to include a code to check the $QR$ decomposition from the numpy library to keep things fair. Even though it's not mandatory, I have included it to showcase the potetial of the decomposition."
   ]
  },
  {
   "cell_type": "code",
   "execution_count": 9,
   "id": "ba1188eb",
   "metadata": {},
   "outputs": [],
   "source": [
    "def QR_method(A, N, Y):\n",
    "    Q, R = QR_factorization(A.T)\n",
    "    for i in range(N):\n",
    "        find_x_min(Q, R, Y[:,i])\n",
    "        \n",
    "def np_method(A, N, Y):\n",
    "    AAT = np.dot(A, A.T)\n",
    "    for i in range(N):\n",
    "        z = np.linalg.solve(AAT,Y[:,i])\n",
    "        x_sol = np.dot(A.T,z)\n",
    "\n",
    "def npQR_method(A, N, Y):\n",
    "    Q, R = np.linalg.qr(A.T)\n",
    "    for i in range(N):\n",
    "        find_x_min(Q, R, Y[:,i])"
   ]
  },
  {
   "cell_type": "markdown",
   "id": "5010668b",
   "metadata": {},
   "source": [
    "A quick check to see if the codes works as they should, that is find an $x_{min}$ which is a solution with lesser norm than $x_{true}$"
   ]
  },
  {
   "cell_type": "code",
   "execution_count": 10,
   "id": "f3be088d",
   "metadata": {},
   "outputs": [
    {
     "name": "stdout",
     "output_type": "stream",
     "text": [
      "2.9129868473966872e-12\n",
      "The norm of xtrue and xmin respectivly:  64.16925010052752 32.128818248460284\n"
     ]
    }
   ],
   "source": [
    "Q, R = QR_factorization(A.T)\n",
    "x1 = find_x_min(Q, R, Y[:,0])\n",
    "\n",
    "print(np.linalg.norm(A @x1 - Y[:,0]))\n",
    "print(\"The norm of xtrue and xmin respectivly: \", np.linalg.norm(X[:,0]), np.linalg.norm(x1))"
   ]
  },
  {
   "cell_type": "markdown",
   "id": "5367b9bf",
   "metadata": {},
   "source": [
    "Clearly $A x_{min} = y$ so our methods satisfy our constraint. Furthermore we see that the norm of $x_{min}$ is lower than the $x_{true}$\n",
    "\n",
    "Also, I have only used one method for $x_{min}$. I will show later that the two methods approch the same $x_{min}$. "
   ]
  },
  {
   "cell_type": "markdown",
   "id": "934361cc",
   "metadata": {},
   "source": [
    "Now we will time the methods to see what is quicker"
   ]
  },
  {
   "cell_type": "code",
   "execution_count": 11,
   "id": "f0a3c9dd",
   "metadata": {},
   "outputs": [
    {
     "name": "stdout",
     "output_type": "stream",
     "text": [
      "1min 16s ± 1.16 s per loop (mean ± std. dev. of 10 runs, 1 loop each)\n"
     ]
    }
   ],
   "source": [
    "%%timeit -r 10 -n 1\n",
    "QR_method(A, N, Y)"
   ]
  },
  {
   "cell_type": "code",
   "execution_count": 12,
   "id": "2bd788b1",
   "metadata": {},
   "outputs": [
    {
     "name": "stdout",
     "output_type": "stream",
     "text": [
      "2.33 s ± 81.9 ms per loop (mean ± std. dev. of 10 runs, 1 loop each)\n"
     ]
    }
   ],
   "source": [
    "%%timeit -r 10 -n 1\n",
    "np_method(A, N, Y)"
   ]
  },
  {
   "cell_type": "markdown",
   "id": "c737e288",
   "metadata": {},
   "source": [
    "My implementation of the $QR$ decomposition was by far the slowest. Clearly it seems as if $np.linalg.solve()$ seems better altogether. However I would say the these times doesn't necessary show the advantages of the $QR$ decomposition. In our case, we only need to calculate the decomposition once, before using it on the $100$ different values of $y$. Now if we show time to for this single caluclation we get."
   ]
  },
  {
   "cell_type": "code",
   "execution_count": 13,
   "id": "991f431e",
   "metadata": {},
   "outputs": [
    {
     "name": "stdout",
     "output_type": "stream",
     "text": [
      "1min 15s ± 896 ms per loop (mean ± std. dev. of 5 runs, 1 loop each)\n"
     ]
    }
   ],
   "source": [
    "%%timeit -r 5 -n 1\n",
    "QR_factorization(A.T)"
   ]
  },
  {
   "cell_type": "markdown",
   "id": "d1320d84",
   "metadata": {},
   "source": [
    "The code is evidently using the majority of the time calculating the $Q$ and $R$, meaning the actual solving for $x$ happens instantly. It's been given that $N = 100$. For an enourmous $N$ we would clearly see the benefit of calculating $QR$ only once."
   ]
  },
  {
   "cell_type": "code",
   "execution_count": 14,
   "id": "23f9f979",
   "metadata": {},
   "outputs": [
    {
     "name": "stdout",
     "output_type": "stream",
     "text": [
      "624 ms ± 46.5 ms per loop (mean ± std. dev. of 10 runs, 1 loop each)\n"
     ]
    }
   ],
   "source": [
    "%%timeit -r 10 -n 1\n",
    "npQR_method(A, N, Y)"
   ]
  },
  {
   "cell_type": "markdown",
   "id": "0255eba8",
   "metadata": {},
   "source": [
    "It is also worth pointing out that the numpy $QR$ is superior to $np.linalg.solve()$. This truly highlights the potetial of $QR$"
   ]
  },
  {
   "cell_type": "markdown",
   "id": "edcbc18b",
   "metadata": {},
   "source": [
    "Just to be certain, we want to verify our methods find the same minimal for $x$. Now the minimal value is unique so we expect no deviance. The code below finds the $x_{min}$ for my $QR$ method and the $np.linalg.solve()$ and plots the difference. "
   ]
  },
  {
   "cell_type": "code",
   "execution_count": 15,
   "id": "9f87a221",
   "metadata": {},
   "outputs": [
    {
     "data": {
      "image/png": "[encoded data removed]",
      "text/plain": [
       "<Figure size 432x288 with 1 Axes>"
      ]
     },
     "metadata": {
      "needs_background": "light"
     },
     "output_type": "display_data"
    }
   ],
   "source": [
    "AAT = np.dot(A, A.T)\n",
    "diff = np.zeros([N])\n",
    "Q, R = QR_factorization(A.T)\n",
    "\n",
    "for i in range(N):\n",
    "    z = np.linalg.solve(AAT,Y[:,i])\n",
    "    x_sol = np.dot(A.T,z)\n",
    "    diff[i] = np.linalg.norm(find_x_min(Q, R, Y[:,i]) - x_sol)\n",
    "\n",
    "plt.plot([i for i in range(N)], diff)\n",
    "plt.show()"
   ]
  },
  {
   "cell_type": "markdown",
   "id": "7c35f170",
   "metadata": {},
   "source": [
    "When the order of magnitude is aroud the range of the computer error we can conclude that they are as equal as they possibly can be, concluding the methods have no difference in numerical accuracy."
   ]
  },
  {
   "cell_type": "markdown",
   "id": "7cd8cf77",
   "metadata": {},
   "source": [
    "We also want some meassure of how much better the $x_{min}$ solution is."
   ]
  },
  {
   "cell_type": "code",
   "execution_count": 16,
   "id": "9cc9bced",
   "metadata": {},
   "outputs": [
    {
     "name": "stdout",
     "output_type": "stream",
     "text": [
      "55.54666233376634\n"
     ]
    }
   ],
   "source": [
    "print(np.linalg.norm(x1 - X[:,0]))"
   ]
  },
  {
   "cell_type": "markdown",
   "id": "17ab6559",
   "metadata": {},
   "source": [
    "For some understaning, this number indicates our $x_{min}$ is actually quite far from the $x_{true}$ value. Now the point of the algorithm is not to actually reconstruct $x_{true}$. We want to find an $x$ which satisfy $Ax = y$ and has the lowest norm. From the nature of model constructing $x$, an educated guess for the $x_{min}$ could be around $0$. Seeing how the norm of difference $x_{min}-x_{true}$ are almost as big as the norm of $x_{true}$  demonstrating quite the improvement! \n"
   ]
  },
  {
   "cell_type": "markdown",
   "id": "f6656cb4",
   "metadata": {},
   "source": [
    "In summary, we have found the solution $x_{min}$ which has the lowest norm-value. By constricution of the algorithm, namly the condition $\\mathcal{L}(x,\\lambda) = 0$ assures a minimizer, which we have also shown unique. I will say we have recovered a meaningful solution."
   ]
  },
  {
   "cell_type": "markdown",
   "id": "deaf2165",
   "metadata": {},
   "source": [
    "**Tikhonov regularisation**"
   ]
  },
  {
   "cell_type": "markdown",
   "id": "69addd3d",
   "metadata": {},
   "source": [
    "We now want a different approach to solve $Ax = y$. We minimize the function\n",
    "\n",
    "\\begin{equation}\n",
    "    \\text{argmin}_x \\|Ax - y\\| + \\mu \\|x\\|^2\n",
    "\\end{equation}\n",
    "\n",
    "where $\\mu$ is a postive parameter\n",
    "\n",
    "Now we no longer have an equality constraint. Instead of constraining $Ax = y$, we rather have a tradeoff between how close $Ax $ should be $y$ and how small $\\|x\\|$ should be. Choosing $\\mu$ small we can neglect $\\mu \\|x\\|^2$ minimizing $\\|Ax - y\\|$. In other words, finding an solution to $Ax = y$. On the contrary, a larger $\\mu$ will minimize $\\mu \\|x\\|^2$ making sure the norm will vanish, but the $x$ we find might not be remotely close to a solution to $Ax = y$. Ideally, we want to find a sweet spot in the middle ground for the $\\mu$ which gives both a small norm and (almost) a solution to $Ax = y$."
   ]
  },
  {
   "cell_type": "markdown",
   "id": "25845400",
   "metadata": {},
   "source": [
    "**2a)**"
   ]
  },
  {
   "cell_type": "markdown",
   "id": "41a31925",
   "metadata": {},
   "source": [
    "Assuming the usual inner product we can rewrite the norms into a vector representation.\n",
    "\n",
    "\\begin{equation}\n",
    "    T(x) = \\| Ax - y\\|^2 + \\mu \\|x\\|^2 = \\langle Ax - y, Ax - y\\rangle + \\mu \\langle x, x\\rangle = x^T A^T A x - 2 x^T A^T y + y^T y + \\mu x^T x\n",
    "\\end{equation}\n",
    "\n",
    "Now by the definition of the Gateaux derivative one can easily derive that. Also We have shown a similar example in a previous exercise.\n",
    "\n",
    "\\begin{equation}\n",
    "    \\nabla_x T(x) = 2 A^T A x -2 A^T y + 2\\mu x \n",
    "\\end{equation}\n",
    "\n",
    "It's given that $T(x_r) = 0$ meaning\n",
    "\n",
    "\\begin{align}\n",
    "    0 &= 2 A^T A x_r - 2 A^T y + 2 \\mu x_r \\\\\n",
    "    &\\implies (A^T A + \\mu I) x_r =A^T y\n",
    "\\end{align}\n",
    "\n",
    "\n",
    "Without proof I claim $(A + B)^T = A^T + B^T$. Since both $A^TA$ and $\\mu I$ are symmetric, we easily see that their sum also is. \n",
    "\n",
    "\\begin{equation}\n",
    "    (A^T A +\\mu I)^T = (A^T A)^T + mu I^T = (A^TA) + \\mu I\n",
    "\\end{equation}\n",
    "\n",
    "A $n \\times n$ matrix $M$ is positive semi definite if $x^T Mx \\geq 0$ for all $x$. In our case\n",
    "\n",
    "\\begin{equation}\n",
    "    x^T A^T A x = \\langle Ax, Ax\\rangle = \\|Ax\\|^2 \\geq 0\n",
    "\\end{equation}\n",
    "\n",
    "proving $A^T A$ Positive semiefinite. Moreover, it can be shown that positive semi definite is equivalent to all eigenvalues being non-negative. Similarly one can show that positive definite is equivalent to strictly positive eigenvalues. \n",
    "\n",
    "Assume $\\lambda_i$ to be the eigenvalues of $A^TA$. From the definition, the eigenvalues of our matrix of interest will be given by \n",
    "\n",
    "\\begin{align}\n",
    "    0 &= det((A^TA + \\mu I) - \\lambda^*_i I) \\\\\n",
    "    &= det(A^TA - ( \\lambda^*_i - \\mu) I )\n",
    "\\end{align}\n",
    "\n",
    "Since the last equation gives an expression for the eigenvalues of $A^TA$ we get. (If needed, reorder the eigenvalues of $A^TA + \\mu I$ according to their corresponding eigenvalue $\\lambda_i$)\n",
    "\n",
    "\\begin{equation}\n",
    "    \\lambda^*_i - \\mu = \\lambda_i \\quad \\forall i \\Longrightarrow \\lambda^*_i = \\lambda_i + \\mu \\quad \\forall i\n",
    "\\end{equation}\n",
    "\n",
    "Now, by assumption $\\mu > 0$ and by positive semi definiteness $\\lambda_i$ are non-negative meaning $\\lambda^*_i$ are strictly positive proving positive definitness and invertible. \n",
    "\n",
    "$\\square$"
   ]
  },
  {
   "cell_type": "markdown",
   "id": "9fa8cd74",
   "metadata": {},
   "source": [
    "Keep now in mind that $\\nabla_x T(x) = 0$ is the first order necessary condition. We have just shown that:\n",
    "\n",
    "\\begin{equation}\n",
    "    \\nabla_x T(x) = 0 \\implies(A^T A + \\mu I) x_r =A^T y\n",
    "\\end{equation}\n",
    "\n",
    "meaning any $x_r$ is a local minimizer. The hessian for this object function is given by\n",
    "\n",
    "\\begin{align}\n",
    "    &\\nabla_x T(x) = 2 A^T A x -2 A^T y + 2\\mu x \\\\\n",
    "    \\implies &\\nabla_{xx} T(x) = 2 (A^T A + \\mu I)\n",
    "\\end{align}\n",
    "\n",
    "Which only has positive eigenvalues and is symmetric or, in other words, SPD for all $x$, therefore convex, proving the minimizer $x_r$ unique."
   ]
  },
  {
   "cell_type": "markdown",
   "id": "fa51014c",
   "metadata": {},
   "source": [
    "**2b)**"
   ]
  },
  {
   "cell_type": "markdown",
   "id": "705f4b31",
   "metadata": {},
   "source": [
    "It can be shown that SVD decomposition will always exists. Assume $A = U \\Sigma V^*$, where $U$ and $V$ are unitary and $\\Sigma$ is an diagonal (rectangular) matrix with the same shape as $A$. Since everything is real; complex conjugate is transpose. Rewriting our system gives\n",
    "\n",
    "\\begin{align}\n",
    "    (A^T A + \\mu I) x_r &= A^T y \\\\\n",
    "    (V \\Sigma^T U^T U \\Sigma V^T + \\mu I ) x_r &= V \\Sigma^T U^T \\\\\n",
    "    (V \\Sigma^T \\Sigma V^T + \\mu V V^T ) x_r &= V \\Sigma^T U^T \\\\\n",
    "    (V \\left(\\Sigma^T \\Sigma  + \\mu I \\right)V^T ) x_r &= V \\Sigma^T U^T \\\\\n",
    "    \\left(\\Sigma^T \\Sigma  + \\mu I \\right)V^T  x_r &= \\Sigma^T U^T \\\\\n",
    "    V^T  x_r &= \\left(\\Sigma^T \\Sigma  + \\mu I \\right)^{-1} \\Sigma^T U^T \\\\\n",
    "    x_r &= V\\left(\\Sigma^T \\Sigma  + \\mu I \\right)^{-1} \\Sigma^T U^T \\\\\n",
    "    x_r &= VD U^T \\\\\n",
    "\\end{align}\n",
    "\n",
    "Where we use result that $\\Sigma^T \\Sigma + \\mu I$ is invertible and that $U$ and $V$ are unitary. Furthermore, any inverse of a diagonal matrix is diagonal and any product of diagonal matrices are diagonal, concluding  $D=\\left(\\Sigma^T \\Sigma  + \\mu I \\right)^{-1} \\Sigma^T$ diagonal (but rectangular)."
   ]
  },
  {
   "cell_type": "markdown",
   "id": "d95b3048",
   "metadata": {},
   "source": [
    "It's worth noticing that even though we have an inverse present, no hard calculations are necessary. The inverse of any diagonal is a new diagonal matrix with their reciprocals. Let \n",
    "\n",
    "\\begin{equation}\n",
    "\\Sigma =\n",
    "\\begin{bmatrix}\n",
    "    \\sigma_1       & 0 & 0 & 0&\\dots & 0 \\\\\n",
    "    0       & \\sigma_2 & 0 & 0&\\dots & 0 \\\\\n",
    "    \\vdots       & \\vdots & \\ddots &\\vdots & \\dots & \\vdots \\\\\n",
    "    0       & 0 & 0 &\\sigma_m& \\dots & 0 \\\\\n",
    "\\end{bmatrix}\n",
    "\\end{equation}\n",
    "\n",
    "Then\n",
    "\n",
    "\\begin{equation}\n",
    "\\left(\\Sigma^T \\Sigma  + \\mu I \\right)^{-1} \\Sigma ^T= \n",
    "\\begin{bmatrix}\n",
    "    \\frac{\\sigma_1}{\\sigma_1^2 + \\mu}       & 0 & \\dots & 0 \\\\\n",
    "    0       & \\frac{\\sigma_2}{\\sigma_2^2 + \\mu} & \\dots & 0 \\\\\n",
    "    \\vdots       & \\vdots & \\ddots &\\vdots \\\\\n",
    "    0       & 0 & \\dots &\\frac{\\sigma_m}{\\sigma_m^2 + \\mu} \\\\\n",
    "    \\vdots & \\vdots & \\vdots & \\vdots \\\\\n",
    "    0 & 0 & 0 & 0 \\\\\n",
    "\\end{bmatrix}\n",
    "\\end{equation}"
   ]
  },
  {
   "cell_type": "markdown",
   "id": "2e87097e",
   "metadata": {},
   "source": [
    "**2c)**"
   ]
  },
  {
   "cell_type": "markdown",
   "id": "a68323b4",
   "metadata": {},
   "source": [
    "The code below will utilize the above results to calculate the minimizer for the system, given a spesific $\\mu$. \n",
    "\n",
    "To prevent storing redundant data, I have made the function take in some reduced $U,S,V^T$. This also makes it quicker. "
   ]
  },
  {
   "cell_type": "code",
   "execution_count": 17,
   "id": "79ed7680",
   "metadata": {},
   "outputs": [],
   "source": [
    "def Tikhonov_solveSVD(U, S, Vt, mu, y):\n",
    "    return (Vt.T * (S/(S**2 + mu))) @ U.T @ y"
   ]
  },
  {
   "cell_type": "markdown",
   "id": "e6e5e05e",
   "metadata": {},
   "source": [
    "**2d)**"
   ]
  },
  {
   "cell_type": "markdown",
   "id": "9a0adeae",
   "metadata": {},
   "source": [
    "Instead of varying for the $y$ we now want to vary the parameter $\\mu$. As mentioned earlier, we want to scout for a $\\mu$ which is not too small or large, if it exists. Our matrix $A$ will still be constant. \n",
    "\n",
    "The call below initializes an $x_{true}$ and an $y$."
   ]
  },
  {
   "cell_type": "code",
   "execution_count": 18,
   "id": "957a084b",
   "metadata": {},
   "outputs": [],
   "source": [
    "x = np.random.normal(0.0,1.0,(A.shape[1]))\n",
    "y = np.dot(A,x)"
   ]
  },
  {
   "cell_type": "markdown",
   "id": "4a1f277f",
   "metadata": {},
   "source": [
    "Below are two function which find $x_r$ using $SVD$ and the usual $np.linalg.solve()$ respectivly. "
   ]
  },
  {
   "cell_type": "code",
   "execution_count": 19,
   "id": "f597b571",
   "metadata": {},
   "outputs": [],
   "source": [
    "def Tikhonov1(A, y, N, a, b):\n",
    "    U, S, Vt = np.linalg.svd(A, full_matrices=False)\n",
    "    mu = np.logspace(a,b, N) \n",
    "    Xr = np.empty((len(A[0]), N))\n",
    "    for i in range(N):\n",
    "        Xr[:,i] = Tikhonov_solveSVD(U,S,Vt,mu[i], y)\n",
    "    return Xr\n",
    "\n",
    "def Tikhonov2(A,y,N, a, b):\n",
    "    ATA = A.T @ A\n",
    "    B = A.T @ y\n",
    "    mu = np.logspace(a,b, N)\n",
    "    Xr = np.empty((len(A[0]), N))\n",
    "    for i in range(N):\n",
    "        Xr[:,i] = np.linalg.solve(ATA + mu[i] * np.eye(len(ATA)),B)\n",
    "    return Xr"
   ]
  },
  {
   "cell_type": "markdown",
   "id": "525cef48",
   "metadata": {},
   "source": [
    "Now we want to see them in action!"
   ]
  },
  {
   "cell_type": "code",
   "execution_count": 20,
   "id": "b5c4ee03",
   "metadata": {},
   "outputs": [
    {
     "data": {
      "image/png": "[encoded data removed]",
      "text/plain": [
       "<Figure size 432x288 with 1 Axes>"
      ]
     },
     "metadata": {
      "needs_background": "light"
     },
     "output_type": "display_data"
    }
   ],
   "source": [
    "N = 100\n",
    "\n",
    "a = 6\n",
    "b = -6\n",
    "\n",
    "XR1 = Tikhonov1(A, y, N, a, b)\n",
    "XR2 = Tikhonov2(A, y, N, a, b)\n",
    "\n",
    "l1 = np.empty(N)\n",
    "l2 = np.empty(N)\n",
    "\n",
    "\n",
    "for i in range(N):\n",
    "    l1[i] = np.linalg.norm(XR1[:,i] - x)\n",
    "    l2[i] = np.linalg.norm(XR2[:,i] - x)\n",
    "    \n",
    "mu = np.logspace(6,-6, N)\n",
    "\n",
    "Q, R = QR_factorization(A.T)\n",
    "xmin = find_x_min(Q, R, y)\n",
    "\n",
    "plt.plot(mu, l1, 'o')\n",
    "plt.plot(mu, l2, 'x')\n",
    "plt.axhline(y = np.linalg.norm(xmin - x))\n",
    "plt.xscale(\"log\")\n",
    "plt.show()"
   ]
  },
  {
   "cell_type": "markdown",
   "id": "393da634",
   "metadata": {},
   "source": [
    "One can see how both methods give identical answers, which is expected of course since they solve the same equation. \n",
    "\n",
    "In constrast to the minimal norm approach, further away from $x_{true}$ isn't necessary ideal. As earlier mentioned, larger values for $\\mu$ will ignore the term$\\|Ax-y\\|$, searching for an $x$ which is not necessary a solution to $Ax = y$. I would say when $\\mu$ has reached $10$, the curve already takes off. higher values of $\\mu$ doesn't give a good solution to $Ax = y$. \n",
    "\n",
    "Finally, we can see that small values of $\\mu$ gives the same solution what the minimal norm approch. It is nice to see that different methods achive the same answer.\n",
    "\n",
    "To further study the system we will plot $\\|A(x_r(\\mu)) - y\\|$ for a smaller interval of $\\mu$. I will also print the value of $\\mu$ which gives the $x_r(\\mu)$ closest to $x_{true}$."
   ]
  },
  {
   "cell_type": "code",
   "execution_count": 21,
   "id": "91b1689d",
   "metadata": {},
   "outputs": [
    {
     "name": "stdout",
     "output_type": "stream",
     "text": [
      "4.328761281083062e-05\n",
      "72\n"
     ]
    },
    {
     "data": {
      "image/png": "[encoded data removed]",
      "text/plain": [
       "<Figure size 432x288 with 1 Axes>"
      ]
     },
     "metadata": {
      "needs_background": "light"
     },
     "output_type": "display_data"
    },
    {
     "data": {
      "image/png": "[encoded data removed]",
      "text/plain": [
       "<Figure size 432x288 with 1 Axes>"
      ]
     },
     "metadata": {
      "needs_background": "light"
     },
     "output_type": "display_data"
    }
   ],
   "source": [
    "N = 100\n",
    "a = 0\n",
    "b = -6\n",
    "l3 = np.zeros(N)\n",
    "l4 = np.zeros(N)\n",
    "\n",
    "\n",
    "XR1 = Tikhonov1(A, y, N, a, b)\n",
    "mu = np.logspace(a,b, N)\n",
    "\n",
    "for i in range(len(mu)):\n",
    "    l3[i] = np.linalg.norm(A @ XR1[:,i] - y)\n",
    "    l4[i] = np.linalg.norm(XR1[:,i] - x)\n",
    "    \n",
    "print(mu[np.argmin(l4)])\n",
    "print(np.argmin(l4))\n",
    "\n",
    "plt.plot(mu, l3)\n",
    "plt.xscale(\"log\")\n",
    "plt.show()\n",
    "\n",
    "plt.plot(mu, l4)\n",
    "plt.xscale(\"log\")\n",
    "plt.show()"
   ]
  },
  {
   "cell_type": "markdown",
   "id": "22a45e51",
   "metadata": {},
   "source": [
    "Now we can see the best $\\mu$ is almost as small as possible. Looking at how the variables are defined one can argue it makes sense. Since $y$ is defined as $Ax_{true}$ we most certainly want $\\|Ax - y\\|$ to vanish since $\\|Ax_{true} - y\\| = 0$ by construction. Choosing a mini $\\mu$ will focus on exactly that term. This might be an unfair system for Tikhonov regularisation :(\n",
    "\n",
    "I will, maybe semi-unreasonable, state that $10^{-3}$ is a good enough value for $\\mu$. I will use this value in a upcoming occasion."
   ]
  },
  {
   "cell_type": "code",
   "execution_count": 22,
   "id": "6c95d87a",
   "metadata": {},
   "outputs": [
    {
     "name": "stdout",
     "output_type": "stream",
     "text": [
      "14.2 s ± 0 ns per loop (mean ± std. dev. of 1 run, 1 loop each)\n"
     ]
    }
   ],
   "source": [
    "%%timeit -r 5 -n 1\n",
    "Tikhonov1(A, y, 100, 6, -6)"
   ]
  },
  {
   "cell_type": "code",
   "execution_count": 23,
   "id": "65a1331a",
   "metadata": {},
   "outputs": [
    {
     "name": "stdout",
     "output_type": "stream",
     "text": [
      "1min 17s ± 0 ns per loop (mean ± std. dev. of 1 run, 1 loop each)\n"
     ]
    }
   ],
   "source": [
    "%%timeit -r 5 -n 1\n",
    "Tikhonov2(A, y, 100, 6, -6)"
   ]
  },
  {
   "cell_type": "markdown",
   "id": "bda9cc19",
   "metadata": {},
   "source": [
    "From the timings above, one observe that the usual $np.linalg.solve()$ is more demanding. As earlier, this change comes from the fact that we only have to calculate the $SVD$ decomposition once.\n",
    "\n",
    "As we saw earlier, the answear was identical to what was found using the minimal norm approach. In both this timings and in 1) we used varied a parameter with $100$ different values. Compared to numpy's $QR$ these are very slow. "
   ]
  },
  {
   "cell_type": "code",
   "execution_count": 24,
   "id": "2cdd14c5",
   "metadata": {},
   "outputs": [
    {
     "name": "stdout",
     "output_type": "stream",
     "text": [
      "2.97 s ± 0 ns per loop (mean ± std. dev. of 1 run, 1 loop each)\n"
     ]
    }
   ],
   "source": [
    "%%timeit -r 5 -n 1\n",
    "U, S, Vt = np.linalg.svd(A)"
   ]
  },
  {
   "cell_type": "markdown",
   "id": "9bbf5ddf",
   "metadata": {},
   "source": [
    "In constrast to the $QR$ from $1f)$ we see that using the $SVD$ matrices actually takes time. The majority of the time us used using $U, \\Sigma, V$. For larger and larger $N$, $QR$ would be a better choice."
   ]
  },
  {
   "cell_type": "markdown",
   "id": "91778321",
   "metadata": {},
   "source": [
    "Lastly, if we want to zoom in all the way and compare the two methods."
   ]
  },
  {
   "cell_type": "code",
   "execution_count": 25,
   "id": "b57a10d6",
   "metadata": {},
   "outputs": [
    {
     "data": {
      "image/png": "[encoded data removed]",
      "text/plain": [
       "<Figure size 432x288 with 1 Axes>"
      ]
     },
     "metadata": {
      "needs_background": "light"
     },
     "output_type": "display_data"
    }
   ],
   "source": [
    "N = 100\n",
    "a = -5\n",
    "b = -6\n",
    "\n",
    "\n",
    "XR1 = Tikhonov1(A, y, N, a, b)\n",
    "XR2 = Tikhonov2(A, y, N, a, b)\n",
    "\n",
    "l5 = np.empty(N)\n",
    "l6 = np.empty(N)\n",
    "\n",
    "for i in range(N):\n",
    "    l5[i] = np.linalg.norm(XR1[:,i] - x)\n",
    "    l6[i] = np.linalg.norm(XR2[:,i] - x)\n",
    "    \n",
    "mu = np.logspace(a,b, N)\n",
    "\n",
    "plt.plot(mu, l5)\n",
    "plt.plot(mu, l6)\n",
    "plt.xscale(\"log\")\n",
    "plt.show()"
   ]
  },
  {
   "cell_type": "markdown",
   "id": "6ed2f493",
   "metadata": {},
   "source": [
    "We see that both methods have almost the same value (differs with order of magnitude $10^-{7}$. We see that $np.linalg.solve()$ is somewhat unstable compared to the $SVD$ which is completely constant."
   ]
  },
  {
   "cell_type": "markdown",
   "id": "b9c36da4",
   "metadata": {},
   "source": [
    "**Single Channel Source Separation**"
   ]
  },
  {
   "cell_type": "markdown",
   "id": "53343b36",
   "metadata": {},
   "source": [
    "Now we will try to apply our methods to single channel source seperation. We will inspect pictures consisting of both $0$ and $1$. We will do so by projecting the combine image to two differet subspaces $Z_0, Z_1$. The $Z_0$ represent an subspace of all the basis vectors needed to represent a \"written $0$\", similar for $Z_1$. Miraculously we have been given a pairwise orthogonal basis for the subspaces. Now we want to project the image of interest onto these $Z_i$. It is given that the projection is given by $P_{Z_i}(y) = W_i W_i^T y$ where $W_i$ is the matrix is the basis vectors as columns. \n",
    "\n",
    "Ideally we want the projections to be orthogonal, that is every fragment of the pictures either contribute to either the $0$ or the $1$. For orthogonal projections, any elements are sent to its unique closest point in the respective subspace. Now, $Z_0$ and $Z_1$ are not necessary orthogonal, so we will rather minimize $\\| y - W_i W_i^T y \\|$. Call the projection onto $Z_0$ and $Z_1$ for $u,v$ respectivly. Since our image of interest is only a combination of $0$ and $1$ we still want the projections to add up to the original point ($u + v = y$). It can be shown that the system becomes. \n",
    "\n",
    "\\begin{equation}\n",
    "    \\text{argmin}_x x^T B x \\quad \\quad Ax = y\n",
    "\\end{equation}\n",
    "\n",
    "Where $B = \\begin{bmatrix}\n",
    "    B_0 & 0\\\\\n",
    "    0 & B_1\n",
    "    \\end{bmatrix}, \\quad A = \\begin{bmatrix}\n",
    "    I & I\\\\\n",
    "    \\end{bmatrix}, \\quad x = \\begin{bmatrix}\n",
    "    u \\\\\n",
    "    v\n",
    "    \\end{bmatrix}$ \n"
   ]
  },
  {
   "cell_type": "markdown",
   "id": "4fb808cb",
   "metadata": {},
   "source": [
    "**3a)**"
   ]
  },
  {
   "cell_type": "markdown",
   "id": "65c1862d",
   "metadata": {},
   "source": [
    "It is given that $W \\in \\mathbb{R}^{n \\times d}$ with $d < n$ and that the columns are pairwise orthogonal. Therefore I claim $W$ must have $W^T$ as a left(!) inverse. \n",
    "\n",
    "By assumption the columns in $W$ are pairwise orthogonal. Denote $W = (w_1, w_2, ..., w_d)$ Then \n",
    "\n",
    "\\begin{equation}\n",
    "    W^T W = \\begin{bmatrix}\n",
    "    \\langle w_1, w_1\\rangle & \\dots & \\langle w_1, w_d\\rangle\\\\\n",
    "    \\vdots      & \\ddots & \\vdots \\\\\n",
    "    \\langle w_d, w_1\\rangle & \\dots & \\langle w_d, w_d\\rangle\n",
    "    \\end{bmatrix}\n",
    "\\end{equation}\n",
    "\n",
    "Now, from the pairwise orthogonal property, $\\langle w_i, w_j\\rangle = \\delta_{ij} \\quad \\forall i, j$ (where $\\delta_{ij}$ is the Kroneckers Delta function).  All entries not on the diagonal be $\\delta_{ij}, i \\neq j$, or in other words, equal to zero. Along the diagonal we will have 1's, giving the identity matrix. Using $W^T W = I$ we obatin:\n",
    "\n",
    "\\begin{align}\n",
    "    B &= I - W W^T \\\\\n",
    "    B^2 &= (I - W W^T)^2 = I^2 - 2 I W W^T + W W^T W W^T \\\\\n",
    "    &= I^2 - 2 I W W^T + W (W^T W) W^T \\\\\n",
    "    &= I - W W^T \\\\\n",
    "    &= B\n",
    "\\end{align}\n",
    "\n",
    "It's trivial to see that $B$ is symmetric\n",
    "\n",
    "\\begin{equation}\n",
    "    (I-WW^T)^T = I^T - (W^T)^TW^T = I - WW^T\n",
    "\\end{equation}\n",
    "\n",
    "Assume now $P$ to be a projection. Then $P^2 = P$. Now from the definition of eigenvalue. Choose $x$ to be a any eigenvector and $\\lambda$ the corresponding eigenvalue.\n",
    "\n",
    "\\begin{align}\n",
    "    Px &= \\lambda x \\\\\n",
    "    P^2 x &= P(\\lambda x) = \\lambda^2 x\\\\\n",
    "    \\Rightarrow \\lambda^2 &= \\lambda \\\\\n",
    "    \\lambda (\\lambda - 1) &= 0\n",
    "\\end{align}\n",
    "\n",
    "Now since $\\mathbb{R}$ is an integral domain we conclude $\\lambda = 0$ or $\\lambda = 1$ to be the only possible eigenvalues of a projection.\n",
    "\n",
    "Finally, since $B$ is a projection, implying all eigenvalues non-negative, and symmetric, $B$ is symmetric positive semidefinite. \n",
    "\n",
    "$\\square$"
   ]
  },
  {
   "cell_type": "markdown",
   "id": "e0a163e7",
   "metadata": {},
   "source": [
    "**3b)**"
   ]
  },
  {
   "cell_type": "markdown",
   "id": "0672c917",
   "metadata": {},
   "source": [
    "The lagrange of the function is\n",
    "\n",
    "\\begin{equation}\n",
    "    \\mathcal{L}(x,\\lambda) = \\frac{1}{2} x^T B x + \\lambda ^T (Ax - y)\n",
    "\\end{equation}\n",
    "\n",
    "I will freely use Gateaux derivative. The gradients $\\nabla_x \\mathcal{L}$ and $\\nabla_\\lambda \\mathcal{L}$ will then be given by\n",
    "\n",
    "\\begin{align}\n",
    "    \\nabla_x \\mathcal{L} (x,\\lambda) &= \\frac{1}{2} \\left(B + B^T\\right) x + A^T \\lambda \\\\\n",
    "    \\nabla_\\lambda \\mathcal{L} (x,\\lambda) &= A x - y \\\\\n",
    "\\end{align}\n",
    "\n",
    "The conditions $\\nabla_x \\mathcal{L} (x,\\lambda) = 0, \\nabla_\\lambda \\mathcal{L} (x,\\lambda) = 0$ gives the two equations\n",
    "\n",
    "\\begin{align}\n",
    "    \\frac{1}{2} \\left(B + B^T\\right) x + A^T \\lambda &= 0\\\\\n",
    "    A x - y &= 0\\\\\n",
    "    \\\\\n",
    "    \\frac{1}{2} \\left(B + B^T\\right) x + A^T \\lambda &= 0\\\\\n",
    "    A x + 0 \\lambda &= y\\\\\n",
    "    \\\\\n",
    "    \\begin{bmatrix}\n",
    "    \\frac{1}{2}(B^T + B) & A^T \\\\\n",
    "    A      & 0\n",
    "    \\end{bmatrix}\n",
    "    \\begin{bmatrix}\n",
    "    x\\\\\n",
    "    \\lambda\n",
    "    \\end{bmatrix}\n",
    "    &= \n",
    "    \\begin{bmatrix}\n",
    "    0\\\\\n",
    "    y\n",
    "    \\end{bmatrix}\n",
    "\\end{align}\n",
    "also in our example, $B = B^T \\Rightarrow \\frac{1}{2} \\left ( B^T + B\\right) = B$\n",
    "The whole equation is just a system of bloack matrices. From the definition of the $A,B, x$ we can write out\n",
    "\n",
    "\\begin{align}\n",
    "    A &= \\begin{bmatrix}\n",
    "    I & I\n",
    "    \\end{bmatrix} \\\\\n",
    "    B &= \\begin{bmatrix}\n",
    "    B_0 & 0\\\\\n",
    "    0 & B_1\n",
    "    \\end{bmatrix} \\\\\n",
    "    x &= \\begin{bmatrix}\n",
    "    u\\\\\n",
    "    v\n",
    "    \\end{bmatrix} \\\\\n",
    "    \\\\\n",
    "    \\begin{bmatrix}\n",
    "    \\frac{1}{2}(B^T + B) & A^T \\\\\n",
    "    A      & 0\n",
    "    \\end{bmatrix} &=\n",
    "    \\begin{bmatrix}\n",
    "    B_0 & 0 & I\\\\\n",
    "    0      & B_1 & I \\\\\n",
    "    I & I & 0\n",
    "    \\end{bmatrix}\\\\\n",
    "    &= \\begin{bmatrix}\n",
    "    I - W_0W_0^T & 0 & I\\\\\n",
    "    0      & I - W_1 W_1^T & I \\\\\n",
    "    I & I & 0\n",
    "    \\end{bmatrix} \\\\\n",
    "    \\\\\n",
    "    \\begin{bmatrix}\n",
    "    x\\\\\n",
    "    \\lambda\n",
    "    \\end{bmatrix}\n",
    "    &=\n",
    "    \\begin{bmatrix}\n",
    "    u\\\\\n",
    "    v\\\\\n",
    "    \\lambda\n",
    "    \\end{bmatrix}\n",
    "\\end{align}\n",
    "\n",
    "Finally our system boils down to\n",
    "\n",
    "\\begin{equation}\n",
    "    \\begin{bmatrix}\n",
    "    I - W_0W_0^T & 0 & I\\\\\n",
    "    0      & I - W_1 W_1^T & I \\\\\n",
    "    I & I & 0\n",
    "    \\end{bmatrix}\n",
    "    \\begin{bmatrix}\n",
    "    u\\\\\n",
    "    v\\\\\n",
    "    \\lambda\n",
    "    \\end{bmatrix} = \\begin{bmatrix}\n",
    "    0\\\\\n",
    "    0\\\\\n",
    "    y\n",
    "    \\end{bmatrix}\n",
    "\\end{equation}"
   ]
  },
  {
   "cell_type": "markdown",
   "id": "16de6ea9",
   "metadata": {},
   "source": [
    "Now this is a system of three matrix equations. \n",
    "\n",
    "From the first and second equation we eliminate $\\lambda$ then using the thirs we substituting $u + v = y$:\n",
    "\\begin{align}\n",
    "    (I - W_0 W_0^T) u + \\lambda &= 0 \\\\\n",
    "    (I - W_1 W_1^T) v + \\lambda &= 0 \\\\\n",
    "    \\\\\n",
    "    \\Rightarrow (I - W_0 W_0^T) u - (I - W_1 W_1^T) v &= 0 \\\\\n",
    "    (I - W_0 W_0^T) u - (I - W_1 W_1^T) (y - u) &= 0 \\\\\n",
    "    (I - W_0 W_0^T) u + (I - W_1 W_1^T) u &= (I - W_1 W_1^T)y \\\\\n",
    "    \\left(2I - W_0 W_0^T - W_1 W_1^T \\right) u &= (I - W_1 W_1^T)y \\\\\n",
    "\\end{align}\n",
    "\n",
    "Using $C = \\left(2I - W_0 W_0^T - W_1 W_1^T \\right)$ and $d = (I - W_1 W_1^T) y$ we get\n",
    "\n",
    "\\begin{equation}\n",
    "    Cu = d \\quad v = y - u\n",
    "\\end{equation}"
   ]
  },
  {
   "cell_type": "markdown",
   "id": "3eea8ccb",
   "metadata": {},
   "source": [
    "**3c)**"
   ]
  },
  {
   "cell_type": "markdown",
   "id": "dbd2ebfa",
   "metadata": {},
   "source": [
    "From the object function $f(x) = \\| Ax - y\\|^2 + \\mu \\|Bx\\|^2$. We use the Gateaux derivative to calculate the gradient and set it equal zero. \n",
    "\n",
    "\\begin{align}\n",
    "    \\nabla f(x) &= \\nabla (x^T A^T A x - 2 x^T A^T y + y^T y + \\mu x^T B^T B x) \\\\\n",
    "    &= 2 A^T A x - 2 A^T y + 2 \\mu B x \\\\\n",
    "    \\Rightarrow A^T y &= A^T A x + \\mu B x\n",
    "\\end{align}\n",
    "\n",
    "Which is essentially identical to what we did in the previous 2\n",
    "\n",
    "\n",
    "\\begin{align}\n",
    "    A &= \\begin{bmatrix}\n",
    "    I & I\n",
    "    \\end{bmatrix} \\\\\n",
    "    B &= \\begin{bmatrix}\n",
    "    B_0 & 0\\\\\n",
    "    0 & B_1\n",
    "    \\end{bmatrix} \\\\\n",
    "    x &= \\begin{bmatrix}\n",
    "    u\\\\\n",
    "    v\n",
    "    \\end{bmatrix} \\\\\n",
    "    \\\\\n",
    "\\end{align}\n",
    "\n",
    "This gives\n",
    "\n",
    "\\begin{align}\n",
    "    A^T A x + \\mu B x &= A^T y \\\\\n",
    "    \\left (\n",
    "    \\begin{bmatrix}\n",
    "    I \\\\\n",
    "    I\n",
    "    \\end{bmatrix}\n",
    "    \\begin{bmatrix}\n",
    "    I & I\n",
    "    \\end{bmatrix}\n",
    "    + \\mu\n",
    "    \\begin{bmatrix}\n",
    "    B_0 & 0 \\\\\n",
    "    0 & B_1\n",
    "    \\end{bmatrix}\n",
    "    \\right)\n",
    "    \\begin{bmatrix}\n",
    "    u \\\\\n",
    "    v\n",
    "    \\end{bmatrix}\n",
    "    &= \\begin{bmatrix}\n",
    "    I \\\\\n",
    "    I\n",
    "    \\end{bmatrix}\n",
    "    y \\\\\n",
    "    \\left (\n",
    "    \\begin{bmatrix}\n",
    "    I & I\\\\\n",
    "    I & I\n",
    "    \\end{bmatrix}\n",
    "    + \\mu\n",
    "    \\begin{bmatrix}\n",
    "    B_0 & 0 \\\\\n",
    "    0 & B_1\n",
    "    \\end{bmatrix}\n",
    "    \\right)\n",
    "    \\begin{bmatrix}\n",
    "    u \\\\\n",
    "    v\n",
    "    \\end{bmatrix}\n",
    "    &= \\begin{bmatrix}\n",
    "    I \\\\\n",
    "    I\n",
    "    \\end{bmatrix}\n",
    "    y \\\\\n",
    "    \\begin{bmatrix}\n",
    "    I + \\mu B_0& I\\\\\n",
    "    I & I + \\mu B_1\n",
    "    \\end{bmatrix}\n",
    "    \\begin{bmatrix}\n",
    "    u \\\\\n",
    "    v\n",
    "    \\end{bmatrix}\n",
    "    &= \\begin{bmatrix}\n",
    "    y \\\\\n",
    "    y\n",
    "    \\end{bmatrix} \\\\\n",
    "    \\begin{bmatrix}\n",
    "    I + \\mu (I - W_0 W_0^T)& I\\\\\n",
    "    I & I + \\mu (I - W_1 W_1^T)\n",
    "    \\end{bmatrix}\n",
    "    \\begin{bmatrix}\n",
    "    u \\\\\n",
    "    v\n",
    "    \\end{bmatrix}\n",
    "    &= \\begin{bmatrix}\n",
    "    y \\\\\n",
    "    y\n",
    "    \\end{bmatrix} \\\\\n",
    "\\end{align}"
   ]
  },
  {
   "cell_type": "markdown",
   "id": "0849ce69",
   "metadata": {},
   "source": [
    "Writing out the system gives two matrix equations\n",
    "\n",
    "\\begin{align}\n",
    "    &u + \\mu (I - W_0 W_0^T) u + v = y \\\\\n",
    "    &u + v +\\mu (I - W_1 W_1^T) v = y \\\\\n",
    "    \\\\\n",
    "    &\\mu (I - W_0 W_0^T) u + u= y  - v \\\\\n",
    "    &\\mu (I - W_1 W_1^T) v + v= y - u\n",
    "\\end{align}\n",
    "For convenience, I will now use $B_0$ and $B_1$.\n",
    "\n",
    "\\begin{align}\n",
    "    &u + \\mu B_0 u + v = y \\\\\n",
    "    &u + v +\\mu B_1 v = y \\\\\n",
    "    \\\\\n",
    "    &B_0u = \\frac{1}{\\mu} (y - u -v) \\\\\n",
    "    &B_1v = \\frac{1}{\\mu} (y - u -v) \\\\\n",
    "    \\\\\n",
    "    \\Rightarrow &B_0 u= B_1 v \n",
    "\\end{align}\n",
    "Multiplying the first equation by $B_1$ (from the left) and substituting:\n",
    "\\begin{align}\n",
    "    B_1 (u + \\mu B_0 u + v) &= B_1 y \\\\\n",
    "    B_1 u + \\mu B_1 B_0 u + B_1v &= B_1 y \\\\\n",
    "    B_1 u + \\mu B_1 B_0 u + B_0 u &= B_1 y \\\\\n",
    "    \\left ( B_1 + \\mu B_1 B_0 + B_0 \\right ) u &= B_1 y \\\\\n",
    "\\end{align}\n",
    "Dually, one can show\n",
    "\n",
    "\\begin{equation}\n",
    "    \\left ( B_0 + \\mu B_0 B_1 + B_1 \\right ) v = B_0 y\n",
    "\\end{equation}\n",
    "\n",
    "Define \n",
    "\n",
    "\\begin{align}\n",
    "    C_0 :&= \\left( B_1 + \\mu B_1 B_0 + B_0 \\right ) \\\\\n",
    "    d_0 :&= B_1 y \\\\\n",
    "    C_1 :&= \\left ( B_0 + \\mu B_0 B_1 + B_1 \\right ) \\\\\n",
    "    d_1 :&= B_0 y \\\\\n",
    "    \\\\\n",
    "    \\Rightarrow C_0 u &= d_0 \\\\\n",
    "    C_1 v &= d_1 \n",
    "\\end{align}"
   ]
  },
  {
   "cell_type": "markdown",
   "id": "03380c4c",
   "metadata": {},
   "source": [
    "**3d)**"
   ]
  },
  {
   "cell_type": "markdown",
   "id": "f0dfa144",
   "metadata": {},
   "source": [
    "The code below is from the handouts. They load the necessary images and basis vectors. "
   ]
  },
  {
   "cell_type": "code",
   "execution_count": 26,
   "id": "f56fa808",
   "metadata": {},
   "outputs": [
    {
     "name": "stdout",
     "output_type": "stream",
     "text": [
      "(784, 16)\n",
      "(784, 16)\n",
      "(784, 100)\n"
     ]
    }
   ],
   "source": [
    "Mixes = np.load('Data/mixed.npy')\n",
    "W0 = np.load('Data/W0.npy')\n",
    "W1 = np.load('Data/W1.npy')\n",
    "\n",
    "print(W0.shape) # Should be (784,16)\n",
    "print(W1.shape) # Should be (784,16)\n",
    "print(Mixes.shape) # Should be (784,100)\n"
   ]
  },
  {
   "cell_type": "markdown",
   "id": "a9a25ab2",
   "metadata": {},
   "source": [
    "Now I will implement both methods below.\n",
    "\n",
    "For the minimal norm approch, I have decided to use $np.linalg.qr()$. We have seen in $QR$ can be super quick (if written well atleast) if it only needs to be calculated once. This is the case when $W_0$ and $W_1$ are constant. We have $100$ different values for $y$ so this is identical to what we had in $1f)$ and numpy's $QR$ was by far the fastest. I have called this function $\\text{Calculate_uv1()}$. \n",
    "\n",
    "For the Tikhonov regularisation I have decided to use my version where I used $SVD$ as it was the quickest. Both methods gave the same answer so why not the fastest. I have called this function $\\text{Calculate_uv2()}$."
   ]
  },
  {
   "cell_type": "code",
   "execution_count": 27,
   "id": "91d33219",
   "metadata": {},
   "outputs": [],
   "source": [
    "def Calculate_uv1(N, Y):\n",
    "    n = len(W0)\n",
    "    I = np.eye(len(W0))\n",
    "    C = (2 * I - W0 @ W0.T - W1 @ W1.T)\n",
    "    d = I - W1 @ W1.T\n",
    "    \n",
    "    U = np.empty((n,N))\n",
    "    V = np.empty((n,N))\n",
    "    \n",
    "    Q, R = np.linalg.qr(C)\n",
    "    \n",
    "    for i in range(N):\n",
    "        y = Y[:,i]\n",
    "        u = find_x_min(Q, R, d@y)\n",
    "        V[:,i] = y - u\n",
    "        U[:,i] = u\n",
    "\n",
    "    return U,V\n",
    "\n",
    "def Calculate_uv2(mu, N, Y):\n",
    "    n = len(W0) \n",
    "    \n",
    "    B0 = np.eye(len(W0)) - W0 @ W0.T\n",
    "    B1 = np.eye(len(W1)) - W1 @ W1.T\n",
    "    \n",
    "    C0 = B1 + mu * B1 @ B0 + B0 \n",
    "    C1 = B0 + mu * B0 @ B1 + B1 \n",
    "    \n",
    "    U0, S0, V0t = np.linalg.svd(C0)\n",
    "    U1, S1, V1t = np.linalg.svd(C1)\n",
    "    \n",
    "    S = np.empty((n,N))\n",
    "    T = np.empty((n,N))\n",
    "    \n",
    "    for i in range(N):\n",
    "        y = Y[:,i]\n",
    "        S[:,i] = Tikhonov_solveSVD(U0, S0, V0t, mu, B1 @ y)\n",
    "        T[:,i] = Tikhonov_solveSVD(U1, S1, V1t, mu, B0 @ y)   \n",
    "    \n",
    "    return S,T"
   ]
  },
  {
   "cell_type": "markdown",
   "id": "94d573d2",
   "metadata": {},
   "source": [
    "Time to test these bad boys!"
   ]
  },
  {
   "cell_type": "code",
   "execution_count": 28,
   "id": "e134ea86",
   "metadata": {
    "scrolled": false
   },
   "outputs": [
    {
     "data": {
      "image/png": "[encoded data removed]",
      "text/plain": [
       "<Figure size 720x576 with 8 Axes>"
      ]
     },
     "metadata": {
      "needs_background": "light"
     },
     "output_type": "display_data"
    }
   ],
   "source": [
    "i = 0\n",
    "mu = 10**(-3)\n",
    "\n",
    "U, V = Calculate_uv1(100, Mixes)\n",
    "S, T = Calculate_uv2(mu, 100, Mixes)\n",
    "\n",
    "\n",
    "fig, ((ax1,ax2,ax3, ax4),(ax5,ax6, ax7, ax8)) = plt.subplots(2,4)\n",
    "fig.set_figheight(8)\n",
    "fig.set_figwidth(10)\n",
    "\n",
    "fig.suptitle(\"Testing both systems\")\n",
    "\n",
    "ax1.imshow(Mixes[:,i].reshape((28,28)), cmap = 'gray')\n",
    "ax1.title.set_text('Mixed picture')\n",
    "ax1.axis('off')\n",
    "\n",
    "ax2.imshow(U[:,i].reshape((28,28)), cmap = 'gray')\n",
    "ax2.title.set_text('Minimal norm 0')\n",
    "ax2.axis('off')\n",
    "\n",
    "ax3.imshow(V[:,i].reshape((28,28)), cmap = 'gray')\n",
    "ax3.title.set_text('Minimal norm 1')\n",
    "ax3.axis('off')\n",
    "\n",
    "ax4.imshow((U[:,i] + V[:,i]).reshape((28,28)), cmap = 'gray')\n",
    "ax4.title.set_text('Reconstruction Minimal norm')\n",
    "ax4.axis('off')\n",
    "\n",
    "ax5.imshow(Mixes[:,i].reshape((28,28)), cmap = 'gray')\n",
    "ax5.title.set_text('Mixed picture')\n",
    "ax5.axis('off')\n",
    "\n",
    "ax6.imshow(S[:,i].reshape((28,28)), cmap = 'gray')\n",
    "ax6.title.set_text('Tikhonov 0')\n",
    "ax6.axis('off')\n",
    "\n",
    "ax7.imshow(T[:,i].reshape((28,28)), cmap = 'gray')\n",
    "ax7.title.set_text('Tikhonov 1')\n",
    "ax7.axis('off')\n",
    "\n",
    "ax8.imshow((S[:,i]+T[:,i]).reshape((28,28)), cmap = 'gray')\n",
    "ax8.title.set_text('Reconstruction Tikhonov')\n",
    "ax8.axis('off')\n",
    "plt.show()"
   ]
  },
  {
   "cell_type": "markdown",
   "id": "02ed7bc6",
   "metadata": {},
   "source": [
    "From a human perspective, one can clearly observe how the projections resemble $0$ and $1$ for both methods. However, i wouldn't say they were perfect. Especially the $1$'s seems to have alot of noise around the top and bottom where the $0$ used to be. This makes somewhat sense as some $1$'s might be somewhat skewed, e.g \\ or /. Thus this parts might be in the span of $W_1$ and therefore present in the projection. Other than that I would say they are quite good.\n",
    "\n",
    "The reconstruction for minimal norm approch is a perfect replica. Now this makes sense as $u + v = y$ is a constraint. $\\text{Calculate_uv1()}$ will always find $u,v$ such as their sum is the intial picture. \n",
    "\n",
    "However there is no such constraint for $\\text{Calculate_uv2()}$, but the reconstruction is still, as far as the human eye can see, identical to the original. This comes from the fact that $\\mu$ is choosen very small. As I will show later, this is not the case for larger $\\mu$.\n",
    "\n",
    "Just to give a number og how good the image is seperated we calculate the $B_i$ norm. $\\|x\\|_{B_i} = x^T B_i x$, which ha is given to be a semi-norm.\n",
    "\n",
    "below I define the two seminorms using $B_0$ and $B_1$"
   ]
  },
  {
   "cell_type": "code",
   "execution_count": 29,
   "id": "e46f30fe",
   "metadata": {},
   "outputs": [],
   "source": [
    "def B0norm(x):\n",
    "    I = np.eye(len(W0))\n",
    "    B0 = I - W0 @ W0.T\n",
    "    return x.T @ B0 @ x\n",
    "\n",
    "def B1norm(x):\n",
    "    I = np.eye(len(W1))\n",
    "    B1 = I - W1 @ W1.T\n",
    "    return x.T @ B1 @ x"
   ]
  },
  {
   "cell_type": "markdown",
   "id": "4faf2996",
   "metadata": {},
   "source": [
    "Now $\\|B_ix\\|= \\|x - W_i W_i^T x\\|$. Conveniently $\\|x\\|^2_{B_i} = \\|B_ix\\|^2 = x^TB_i x$. The functions in the above cell are effectivly calculating their distance from the composed image to the projection, which we want to minimize."
   ]
  },
  {
   "cell_type": "code",
   "execution_count": 30,
   "id": "e2aa7845",
   "metadata": {},
   "outputs": [
    {
     "name": "stdout",
     "output_type": "stream",
     "text": [
      "y in B0:  37.004102627582256  y in B1 63.40036690246728\n",
      "u in B0:  2.520357305170812  u in B1 55.839294682581084\n",
      "v in B0:  29.443030103322258  v in B1 2.5203576095445905\n"
     ]
    }
   ],
   "source": [
    "print(\"y in B0: \", B0norm(U[:,0] + V[:,0]), \" y in B1\", B1norm(U[:,0] + V[:,0]) )\n",
    "print(\"u in B0: \", B0norm(U[:,0]), \" u in B1\", B1norm(U[:,0]) )\n",
    "print(\"v in B0: \", B0norm( V[:,0]), \" v in B1\", B1norm( V[:,0]) )"
   ]
  },
  {
   "cell_type": "markdown",
   "id": "13708a68",
   "metadata": {},
   "source": [
    "Now recall that $u$ represents the projection of $y$ onto $Z_0$ and similar for $v$ and $Z_1$. Now these number are quite interesting. First one can observe that $y$ , atleast for the first picture, is originaly closer to a $0$ than a $1$. \n",
    "\n",
    "Furthermore, $u$ and $v$ are very small for their respective value, which shows that the algorithm indeed works as intended. \n",
    "\n",
    "It is also worth point out that $u$ is quite large in the $B_1$ norm, making $v$ closer to $0$ than $u$ is to $1$. This can be observed as the noise around $1$ forms a $0$."
   ]
  },
  {
   "cell_type": "markdown",
   "id": "96948684",
   "metadata": {},
   "source": [
    "**Varying for $\\mu$**"
   ]
  },
  {
   "cell_type": "code",
   "execution_count": 31,
   "id": "1c6f1f1d",
   "metadata": {
    "scrolled": false
   },
   "outputs": [
    {
     "data": {
      "image/png": "[encoded data removed]",
      "text/plain": [
       "<Figure size 720x288 with 4 Axes>"
      ]
     },
     "metadata": {
      "needs_background": "light"
     },
     "output_type": "display_data"
    },
    {
     "data": {
      "image/png": "[encoded data removed]",
      "text/plain": [
       "<Figure size 720x288 with 4 Axes>"
      ]
     },
     "metadata": {
      "needs_background": "light"
     },
     "output_type": "display_data"
    },
    {
     "data": {
      "image/png": "[encoded data removed]",
      "text/plain": [
       "<Figure size 720x288 with 4 Axes>"
      ]
     },
     "metadata": {
      "needs_background": "light"
     },
     "output_type": "display_data"
    },
    {
     "data": {
      "image/png": "[encoded data removed]",
      "text/plain": [
       "<Figure size 720x288 with 4 Axes>"
      ]
     },
     "metadata": {
      "needs_background": "light"
     },
     "output_type": "display_data"
    },
    {
     "data": {
      "image/png": "[encoded data removed]",
      "text/plain": [
       "<Figure size 720x288 with 4 Axes>"
      ]
     },
     "metadata": {
      "needs_background": "light"
     },
     "output_type": "display_data"
    },
    {
     "data": {
      "image/png": "[encoded data removed]",
      "text/plain": [
       "<Figure size 720x288 with 4 Axes>"
      ]
     },
     "metadata": {
      "needs_background": "light"
     },
     "output_type": "display_data"
    }
   ],
   "source": [
    "mu = [10**(i) for i in range(-3,3)]\n",
    "\n",
    "for j in range(len(mu)):\n",
    "    S, T = Calculate_uv2(mu[j], 100, Mixes)\n",
    "    fig, ((ax1,ax2,ax3, ax4)) = plt.subplots(1,4)\n",
    "    fig.set_figheight(4)\n",
    "    fig.set_figwidth(10)\n",
    "    fig.suptitle(\"mu = {}\".format(mu[j]))\n",
    "    \n",
    "    ax1.imshow(Mixes[:,i].reshape((28,28)), cmap = 'gray')\n",
    "    ax1.title.set_text('Mixed picture')\n",
    "    ax1.axis('off')\n",
    "\n",
    "    ax2.imshow(S[:,i].reshape((28,28)), cmap = 'gray')\n",
    "    ax2.title.set_text('Minimal norm 1')\n",
    "    ax2.axis('off')\n",
    "\n",
    "    ax3.imshow(T[:,i].reshape((28,28)), cmap = 'gray')\n",
    "    ax3.title.set_text('Minimal norm 0')\n",
    "    ax3.axis('off')\n",
    "\n",
    "    ax4.imshow((S[:,i] + T[:,i]).reshape((28,28)), cmap = 'gray')\n",
    "    ax4.title.set_text('Reconstruction Minimal norm')\n",
    "    ax4.axis('off')"
   ]
  },
  {
   "cell_type": "markdown",
   "id": "6ed0b0dc",
   "metadata": {},
   "source": [
    "This plot more or less illustrates the graph showing the precision of the Tikhonov regularisation depening on the $\\mu$. For $\\mu = 1$ the images for $u,v$ and the reconstruction is quite blurry. The traits are clearly there, but the quality is just bad. It only gets worse for larger $\\mu$ and the entire thing is a complete abomination for $\\mu = 100$. Which is expected as this correspond perfectly to what we saw in $2d)$. This is the nature of the Tikonovs regularisation. When $\\mu$ gets big, a lower value for $\\|Bx\\|$ is all that matters. I will illustrate that in the block below. "
   ]
  },
  {
   "cell_type": "code",
   "execution_count": 32,
   "id": "bf4392c3",
   "metadata": {},
   "outputs": [
    {
     "name": "stdout",
     "output_type": "stream",
     "text": [
      "y in B0:  0.05355164735034958  y in B1 0.04637430941674144\n",
      "s in B0:  0.04603398916971001  u in B1 0.00604271916161074\n",
      "t in B0:  0.0035355125949129364  v in B1 0.03634944044910794\n"
     ]
    }
   ],
   "source": [
    "print(\"y in B0: \", B0norm(S[:,0] + T[:,0]), \" y in B1\", B1norm(S[:,0] + T[:,0]))\n",
    "print(\"s in B0: \", B0norm(S[:,0]), \" u in B1\", B1norm(S[:,0]) )\n",
    "print(\"t in B0: \", B0norm(T[:,0]), \" v in B1\", B1norm(T[:,0]) )"
   ]
  },
  {
   "cell_type": "code",
   "execution_count": 33,
   "id": "ec893ef9",
   "metadata": {},
   "outputs": [
    {
     "name": "stdout",
     "output_type": "stream",
     "text": [
      "139 ms ± 0 ns per loop (mean ± std. dev. of 1 run, 1 loop each)\n"
     ]
    }
   ],
   "source": [
    "%%timeit -r 5 -n 1\n",
    "Calculate_uv1(100, Mixes)"
   ]
  },
  {
   "cell_type": "code",
   "execution_count": 34,
   "id": "b38fe58c",
   "metadata": {},
   "outputs": [
    {
     "name": "stdout",
     "output_type": "stream",
     "text": [
      "3.6 s ± 222 ms per loop (mean ± std. dev. of 5 runs, 1 loop each)\n"
     ]
    }
   ],
   "source": [
    "%%timeit -r 5 -n 1\n",
    "Calculate_uv2(10**(-3), 100, Mixes)"
   ]
  },
  {
   "cell_type": "markdown",
   "id": "556fb87d",
   "metadata": {},
   "source": [
    "From these timings we can see that Tikhonov regularisation is way slower for this system. I guess it is somewhat unfair since I am using the $QR$ from the numpy library vs a code I made, but the result would be similar regardless."
   ]
  },
  {
   "cell_type": "markdown",
   "id": "6d0c8f88",
   "metadata": {},
   "source": [
    "I would say that the image seperation was quite successful! We were able to clearly see the $0$ and $1$ when we seperated. Both the minimal norm approach and the Tikhonov regularisation gave nice looking pictures (atleast for an appropriate $\\mu$). The images are of course not perfect, but I can definitely understand the interpret the original content. It's hard to say for larger systems but I would say these methods proved quite effective on single channel source separation, alteast for our sizes."
   ]
  }
 ],
 "metadata": {
  "kernelspec": {
   "display_name": "Python 3 (ipykernel)",
   "language": "python",
   "name": "python3"
  },
  "language_info": {
   "codemirror_mode": {
    "name": "ipython",
    "version": 3
   },
   "file_extension": ".py",
   "mimetype": "text/x-python",
   "name": "python",
   "nbconvert_exporter": "python",
   "pygments_lexer": "ipython3",
   "version": "3.9.7"
  }
 },
 "nbformat": 4,
 "nbformat_minor": 5
}
